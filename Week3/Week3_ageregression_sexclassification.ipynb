{
  "nbformat": 4,
  "nbformat_minor": 0,
  "metadata": {
    "colab": {
      "name": "Week3_ageregression_sexclassification.ipynb",
      "provenance": [],
      "collapsed_sections": [],
      "authorship_tag": "ABX9TyMZKDfowviFRlfISzlJL2iT",
      "include_colab_link": true
    },
    "kernelspec": {
      "name": "python3",
      "display_name": "Python 3"
    }
  },
  "cells": [
    {
      "cell_type": "markdown",
      "metadata": {
        "id": "view-in-github",
        "colab_type": "text"
      },
      "source": [
        "<a href=\"https://colab.research.google.com/github/elenado-1997/Deep-Learning-Healthcare-Image-Analysis/blob/main/Week3/Week3_ageregression_sexclassification.ipynb\" target=\"_parent\"><img src=\"https://colab.research.google.com/assets/colab-badge.svg\" alt=\"Open In Colab\"/></a>"
      ]
    },
    {
      "cell_type": "code",
      "metadata": {
        "colab": {
          "base_uri": "https://localhost:8080/"
        },
        "id": "XHQUhXv7JYUn",
        "outputId": "ba289f21-3c74-40d2-a9cc-baba614ce6bf"
      },
      "source": [
        "!git clone https://github.com/DLTK/DLTK.git "
      ],
      "execution_count": 1,
      "outputs": [
        {
          "output_type": "stream",
          "text": [
            "Cloning into 'DLTK'...\n",
            "remote: Enumerating objects: 3, done.\u001b[K\n",
            "remote: Counting objects: 100% (3/3), done.\u001b[K\n",
            "remote: Compressing objects: 100% (3/3), done.\u001b[K\n",
            "remote: Total 9084 (delta 0), reused 0 (delta 0), pack-reused 9081\u001b[K\n",
            "Receiving objects: 100% (9084/9084), 19.05 MiB | 15.82 MiB/s, done.\n",
            "Resolving deltas: 100% (6366/6366), done.\n"
          ],
          "name": "stdout"
        }
      ]
    },
    {
      "cell_type": "markdown",
      "metadata": {
        "id": "vyoiQc8yJuCU"
      },
      "source": [
        "Changed line 139 to `na_values=[]).values`\n",
        "for /content/DLTK/data/IXI_HH/download_IXI_HH.py\n",
        "\n",
        "because pandas code is outdated: https://pandas.pydata.org/pandas-docs/version/0.25.1/reference/api/pandas.DataFrame.as_matrix.html"
      ]
    },
    {
      "cell_type": "code",
      "metadata": {
        "colab": {
          "base_uri": "https://localhost:8080/"
        },
        "id": "NbCRINWMJoj2",
        "outputId": "e7c62782-7a22-438e-e258-52f7df289b63"
      },
      "source": [
        "!pip install SimpleITK"
      ],
      "execution_count": 2,
      "outputs": [
        {
          "output_type": "stream",
          "text": [
            "Collecting SimpleITK\n",
            "\u001b[?25l  Downloading https://files.pythonhosted.org/packages/cc/85/6a7ce61f07cdaca722dd64f028b5678fb0a9e1bf66f534c2f8dd2eb78490/SimpleITK-2.0.2-cp36-cp36m-manylinux2010_x86_64.whl (47.4MB)\n",
            "\u001b[K     |████████████████████████████████| 47.4MB 97kB/s \n",
            "\u001b[?25hInstalling collected packages: SimpleITK\n",
            "Successfully installed SimpleITK-2.0.2\n"
          ],
          "name": "stdout"
        }
      ]
    },
    {
      "cell_type": "code",
      "metadata": {
        "id": "smfEDtcNJwoh"
      },
      "source": [
        "!python /content/DLTK/data/IXI_HH/download_IXI_HH.py"
      ],
      "execution_count": null,
      "outputs": []
    }
  ]
}