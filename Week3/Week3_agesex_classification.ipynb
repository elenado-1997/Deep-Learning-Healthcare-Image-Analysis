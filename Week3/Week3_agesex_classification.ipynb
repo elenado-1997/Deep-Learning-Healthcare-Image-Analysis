{
  "nbformat": 4,
  "nbformat_minor": 0,
  "metadata": {
    "colab": {
      "name": "Week3_agesex_classification.ipynb",
      "provenance": [],
      "toc_visible": true,
      "authorship_tag": "ABX9TyMLjFU1j7LECikgHknqUzCi",
      "include_colab_link": true
    },
    "kernelspec": {
      "name": "python3",
      "display_name": "Python 3"
    }
  },
  "cells": [
    {
      "cell_type": "markdown",
      "metadata": {
        "id": "view-in-github",
        "colab_type": "text"
      },
      "source": [
        "<a href=\"https://colab.research.google.com/github/elenado-1997/Deep-Learning-Healthcare-Image-Analysis/blob/main/Week3/Week3_agesex_classification.ipynb\" target=\"_parent\"><img src=\"https://colab.research.google.com/assets/colab-badge.svg\" alt=\"Open In Colab\"/></a>"
      ]
    },
    {
      "cell_type": "markdown",
      "metadata": {
        "id": "tCgWCRHEhTTe"
      },
      "source": [
        "# week 3 assignment using the following:\n",
        "\n",
        "\n",
        "*   https://github.com/DLTK/DLTK/tree/master/examples/applications/IXI_HH_age_regression_resnet\n",
        "*   https://github.com/DLTK/DLTK/tree/master/examples/applications/IXI_HH_age_regression_resnet"
      ]
    },
    {
      "cell_type": "code",
      "metadata": {
        "id": "7u6tJj11hNAl",
        "outputId": "4ca6e255-1d13-440b-cf73-93ae22fc0235",
        "colab": {
          "base_uri": "https://localhost:8080/"
        }
      },
      "source": [
        "!git clone https://github.com/DLTK/DLTK.git \n"
      ],
      "execution_count": 2,
      "outputs": [
        {
          "output_type": "stream",
          "text": [
            "Cloning into 'DLTK'...\n",
            "remote: Enumerating objects: 3, done.\u001b[K\n",
            "remote: Counting objects: 100% (3/3), done.\u001b[K\n",
            "remote: Compressing objects: 100% (3/3), done.\u001b[K\n",
            "remote: Total 9084 (delta 0), reused 0 (delta 0), pack-reused 9081\u001b[K\n",
            "Receiving objects: 100% (9084/9084), 19.05 MiB | 26.87 MiB/s, done.\n",
            "Resolving deltas: 100% (6366/6366), done.\n"
          ],
          "name": "stdout"
        }
      ]
    },
    {
      "cell_type": "code",
      "metadata": {
        "id": "vV_B_v5pjBhW",
        "outputId": "753931a9-7178-414a-9d24-e8dd588495bf",
        "colab": {
          "base_uri": "https://localhost:8080/"
        }
      },
      "source": [
        "!pip install SimpleITK"
      ],
      "execution_count": 5,
      "outputs": [
        {
          "output_type": "stream",
          "text": [
            "Collecting SimpleITK\n",
            "\u001b[?25l  Downloading https://files.pythonhosted.org/packages/cc/85/6a7ce61f07cdaca722dd64f028b5678fb0a9e1bf66f534c2f8dd2eb78490/SimpleITK-2.0.2-cp36-cp36m-manylinux2010_x86_64.whl (47.4MB)\n",
            "\u001b[K     |████████████████████████████████| 47.4MB 95kB/s \n",
            "\u001b[?25hInstalling collected packages: SimpleITK\n",
            "Successfully installed SimpleITK-2.0.2\n"
          ],
          "name": "stdout"
        }
      ]
    },
    {
      "cell_type": "code",
      "metadata": {
        "id": "Emtt98Ygi-D2",
        "outputId": "4dc94544-a16d-489f-fb68-c876280aef6f",
        "colab": {
          "base_uri": "https://localhost:8080/"
        }
      },
      "source": [
        "!python /content/DLTK/data/IXI_HH/download_IXI_HH.py"
      ],
      "execution_count": 6,
      "outputs": [
        {
          "output_type": "stream",
          "text": [
            "Downloading t1.tar from http://biomedic.doc.ic.ac.uk/brain-development/downloads/IXI/IXI-T1.tar\n",
            "Downloading t2.tar from http://biomedic.doc.ic.ac.uk/brain-development/downloads/IXI/IXI-T2.tar\n",
            "Downloading pd.tar from http://biomedic.doc.ic.ac.uk/brain-development/downloads/IXI/IXI-PD.tar\n",
            "Downloading mra.tar from http://biomedic.doc.ic.ac.uk/brain-development/downloads/IXI/IXI-MRA.tar\n",
            "Downloading demographic.xls from http://biomedic.doc.ic.ac.uk/brain-development/downloads/IXI/IXI.xls\n",
            "Extracting IXI HH data from t1.tar.\n",
            "Extracting IXI HH data from t2.tar.\n",
            "Extracting IXI HH data from pd.tar.\n",
            "Extracting IXI HH data from mra.tar.\n",
            "['Table', 'Ethnicity', 'Marital Status', 'Occupation', 'Qualification', 'Study Date']\n",
            "Traceback (most recent call last):\n",
            "  File \"/content/DLTK/data/IXI_HH/download_IXI_HH.py\", line 139, in <module>\n",
            "    na_values=[]).as_matrix()\n",
            "  File \"/usr/local/lib/python3.6/dist-packages/pandas/core/generic.py\", line 5141, in __getattr__\n",
            "    return object.__getattribute__(self, name)\n",
            "AttributeError: 'DataFrame' object has no attribute 'as_matrix'\n"
          ],
          "name": "stdout"
        }
      ]
    }
  ]
}